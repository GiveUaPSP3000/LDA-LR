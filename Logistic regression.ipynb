{
 "cells": [
  {
   "cell_type": "markdown",
   "source": [
    "## import libraries\n"
   ],
   "metadata": {
    "collapsed": false,
    "pycharm": {
     "name": "#%% md\n"
    }
   }
  },
  {
   "cell_type": "code",
   "execution_count": 8,
   "metadata": {
    "collapsed": true
   },
   "outputs": [
    {
     "name": "stderr",
     "output_type": "stream",
     "text": [
      "[nltk_data] Downloading package wordnet to\n",
      "[nltk_data]     C:\\Users\\Tengyue\\AppData\\Roaming\\nltk_data...\n",
      "[nltk_data]   Package wordnet is already up-to-date!\n"
     ]
    },
    {
     "data": {
      "text/plain": "True"
     },
     "execution_count": 8,
     "metadata": {},
     "output_type": "execute_result"
    }
   ],
   "source": [
    "import pandas as pd\n",
    "import gensim\n",
    "from gensim.utils import simple_preprocess\n",
    "from gensim.parsing.preprocessing import STOPWORDS\n",
    "from nltk.stem import WordNetLemmatizer, SnowballStemmer\n",
    "from nltk.stem.porter import *\n",
    "import numpy as np\n",
    "np.random.seed(2018)\n",
    "import nltk\n",
    "nltk.download('wordnet')"
   ]
  },
  {
   "cell_type": "markdown",
   "source": [
    "## read the raw data"
   ],
   "metadata": {
    "collapsed": false,
    "pycharm": {
     "name": "#%% md\n"
    }
   }
  },
  {
   "cell_type": "code",
   "execution_count": 9,
   "outputs": [
    {
     "data": {
      "text/plain": "       review_id  product_id  \\\n0        3227267  B003EYVXV4   \n1         801848  B007SVLWII   \n2        3695888  B003ZYF1NE   \n3        1357666  B0007SL1ZI   \n4        1968126  0788816454   \n...          ...         ...   \n49995    1132230  B00CWY76CC   \n49996    2939710  B000N4SHOE   \n49997    2468259  B00005IC0E   \n49998    1102407  B00CASLGJY   \n49999    3264639  B003ZXDP10   \n\n                                            review_title  \\\n0      \"The Hunger Games\" is a Well-Constructed \"Chim...   \n1                                             GREAT!!!!!   \n2                                    Satisfied Customers   \n3                                       The Greatest!!!!   \n4                                        Love the movie!   \n...                                                  ...   \n49995                   Really don't care for this game.   \n49996                                        I loved it!   \n49997                                         Very Good!   \n49998                                                bad   \n49999                                  good prison movie   \n\n                                             review_body sentiment  \\\n0      ***This review may contain spoilers***So what ...  Positive   \n1      this game is the best game I have ever played ...  Positive   \n2      It's comfortable, it's light and it's machine ...  Positive   \n3      THIS GAME IS REALLY GREAT YOU SHOULD BUY IT......  Positive   \n4      Great Adam Sandler movie, a classic! And on Bl...  Positive   \n...                                                  ...       ...   \n49995  I have tried this game out for a couple of day...  Negative   \n49996  I enjoyed watching this movie very much.  It w...  Positive   \n49997  I'm from the United Kingdom, and the title her...  Positive   \n49998  this game is just over all bad. I couldn't bel...  Negative   \n49999  this is a good prison movie and i got it in ni...  Positive   \n\n                                                 context  \n0      \"The Hunger Games\" is a Well-Constructed \"Chim...  \n1      GREAT!!!!!this game is the best game I have ev...  \n2      Satisfied CustomersIt's comfortable, it's ligh...  \n3      The Greatest!!!!THIS GAME IS REALLY GREAT YOU ...  \n4      Love the movie!Great Adam Sandler movie, a cla...  \n...                                                  ...  \n49995  Really don't care for this game.I have tried t...  \n49996  I loved it!I enjoyed watching this movie very ...  \n49997  Very Good!I'm from the United Kingdom, and the...  \n49998  badthis game is just over all bad. I couldn't ...  \n49999  good prison moviethis is a good prison movie a...  \n\n[50000 rows x 6 columns]",
      "text/html": "<div>\n<style scoped>\n    .dataframe tbody tr th:only-of-type {\n        vertical-align: middle;\n    }\n\n    .dataframe tbody tr th {\n        vertical-align: top;\n    }\n\n    .dataframe thead th {\n        text-align: right;\n    }\n</style>\n<table border=\"1\" class=\"dataframe\">\n  <thead>\n    <tr style=\"text-align: right;\">\n      <th></th>\n      <th>review_id</th>\n      <th>product_id</th>\n      <th>review_title</th>\n      <th>review_body</th>\n      <th>sentiment</th>\n      <th>context</th>\n    </tr>\n  </thead>\n  <tbody>\n    <tr>\n      <th>0</th>\n      <td>3227267</td>\n      <td>B003EYVXV4</td>\n      <td>\"The Hunger Games\" is a Well-Constructed \"Chim...</td>\n      <td>***This review may contain spoilers***So what ...</td>\n      <td>Positive</td>\n      <td>\"The Hunger Games\" is a Well-Constructed \"Chim...</td>\n    </tr>\n    <tr>\n      <th>1</th>\n      <td>801848</td>\n      <td>B007SVLWII</td>\n      <td>GREAT!!!!!</td>\n      <td>this game is the best game I have ever played ...</td>\n      <td>Positive</td>\n      <td>GREAT!!!!!this game is the best game I have ev...</td>\n    </tr>\n    <tr>\n      <th>2</th>\n      <td>3695888</td>\n      <td>B003ZYF1NE</td>\n      <td>Satisfied Customers</td>\n      <td>It's comfortable, it's light and it's machine ...</td>\n      <td>Positive</td>\n      <td>Satisfied CustomersIt's comfortable, it's ligh...</td>\n    </tr>\n    <tr>\n      <th>3</th>\n      <td>1357666</td>\n      <td>B0007SL1ZI</td>\n      <td>The Greatest!!!!</td>\n      <td>THIS GAME IS REALLY GREAT YOU SHOULD BUY IT......</td>\n      <td>Positive</td>\n      <td>The Greatest!!!!THIS GAME IS REALLY GREAT YOU ...</td>\n    </tr>\n    <tr>\n      <th>4</th>\n      <td>1968126</td>\n      <td>0788816454</td>\n      <td>Love the movie!</td>\n      <td>Great Adam Sandler movie, a classic! And on Bl...</td>\n      <td>Positive</td>\n      <td>Love the movie!Great Adam Sandler movie, a cla...</td>\n    </tr>\n    <tr>\n      <th>...</th>\n      <td>...</td>\n      <td>...</td>\n      <td>...</td>\n      <td>...</td>\n      <td>...</td>\n      <td>...</td>\n    </tr>\n    <tr>\n      <th>49995</th>\n      <td>1132230</td>\n      <td>B00CWY76CC</td>\n      <td>Really don't care for this game.</td>\n      <td>I have tried this game out for a couple of day...</td>\n      <td>Negative</td>\n      <td>Really don't care for this game.I have tried t...</td>\n    </tr>\n    <tr>\n      <th>49996</th>\n      <td>2939710</td>\n      <td>B000N4SHOE</td>\n      <td>I loved it!</td>\n      <td>I enjoyed watching this movie very much.  It w...</td>\n      <td>Positive</td>\n      <td>I loved it!I enjoyed watching this movie very ...</td>\n    </tr>\n    <tr>\n      <th>49997</th>\n      <td>2468259</td>\n      <td>B00005IC0E</td>\n      <td>Very Good!</td>\n      <td>I'm from the United Kingdom, and the title her...</td>\n      <td>Positive</td>\n      <td>Very Good!I'm from the United Kingdom, and the...</td>\n    </tr>\n    <tr>\n      <th>49998</th>\n      <td>1102407</td>\n      <td>B00CASLGJY</td>\n      <td>bad</td>\n      <td>this game is just over all bad. I couldn't bel...</td>\n      <td>Negative</td>\n      <td>badthis game is just over all bad. I couldn't ...</td>\n    </tr>\n    <tr>\n      <th>49999</th>\n      <td>3264639</td>\n      <td>B003ZXDP10</td>\n      <td>good prison movie</td>\n      <td>this is a good prison movie and i got it in ni...</td>\n      <td>Positive</td>\n      <td>good prison moviethis is a good prison movie a...</td>\n    </tr>\n  </tbody>\n</table>\n<p>50000 rows × 6 columns</p>\n</div>"
     },
     "execution_count": 9,
     "metadata": {},
     "output_type": "execute_result"
    }
   ],
   "source": [
    "df = pd.read_csv('data/reviews.csv')\n",
    "df['context'] = df.apply(lambda x : str(x['review_title']) + str(x['review_body']),axis=1)\n",
    "df"
   ],
   "metadata": {
    "collapsed": false,
    "pycharm": {
     "name": "#%%\n"
    }
   }
  },
  {
   "cell_type": "markdown",
   "source": [
    "## preprocess"
   ],
   "metadata": {
    "collapsed": false,
    "pycharm": {
     "name": "#%% md\n"
    }
   }
  },
  {
   "cell_type": "code",
   "execution_count": 10,
   "outputs": [
    {
     "name": "stderr",
     "output_type": "stream",
     "text": [
      "D:\\ProgramData\\Anaconda3\\envs\\py37\\lib\\site-packages\\ipykernel_launcher.py:18: SettingWithCopyWarning: \n",
      "A value is trying to be set on a copy of a slice from a DataFrame.\n",
      "Try using .loc[row_indexer,col_indexer] = value instead\n",
      "\n",
      "See the caveats in the documentation: https://pandas.pydata.org/pandas-docs/stable/user_guide/indexing.html#returning-a-view-versus-a-copy\n"
     ]
    },
    {
     "data": {
      "text/plain": "                                                 context  sentiment\n0      hunger game construct chimera movi larg suppor...          1\n1      great game best game play kindl awesom new gam...          1\n2      satisfi customersit comfort light machin washa...          1\n3      greatest game great buy play anakin obiwan yod...          1\n4      love movi great adam sandler movi classic blu ...          1\n...                                                  ...        ...\n49995  care game tri game coupl day past certain poin...         -1\n49996  love enjoy watch movi engag keep attent begin ...          1\n49997  good unit kingdom titl movi contagion attract ...          1\n49998  badthi game bad couldn believ cheap graphic po...         -1\n49999  good prison moviethi good prison movi get nice...          1\n\n[50000 rows x 2 columns]",
      "text/html": "<div>\n<style scoped>\n    .dataframe tbody tr th:only-of-type {\n        vertical-align: middle;\n    }\n\n    .dataframe tbody tr th {\n        vertical-align: top;\n    }\n\n    .dataframe thead th {\n        text-align: right;\n    }\n</style>\n<table border=\"1\" class=\"dataframe\">\n  <thead>\n    <tr style=\"text-align: right;\">\n      <th></th>\n      <th>context</th>\n      <th>sentiment</th>\n    </tr>\n  </thead>\n  <tbody>\n    <tr>\n      <th>0</th>\n      <td>hunger game construct chimera movi larg suppor...</td>\n      <td>1</td>\n    </tr>\n    <tr>\n      <th>1</th>\n      <td>great game best game play kindl awesom new gam...</td>\n      <td>1</td>\n    </tr>\n    <tr>\n      <th>2</th>\n      <td>satisfi customersit comfort light machin washa...</td>\n      <td>1</td>\n    </tr>\n    <tr>\n      <th>3</th>\n      <td>greatest game great buy play anakin obiwan yod...</td>\n      <td>1</td>\n    </tr>\n    <tr>\n      <th>4</th>\n      <td>love movi great adam sandler movi classic blu ...</td>\n      <td>1</td>\n    </tr>\n    <tr>\n      <th>...</th>\n      <td>...</td>\n      <td>...</td>\n    </tr>\n    <tr>\n      <th>49995</th>\n      <td>care game tri game coupl day past certain poin...</td>\n      <td>-1</td>\n    </tr>\n    <tr>\n      <th>49996</th>\n      <td>love enjoy watch movi engag keep attent begin ...</td>\n      <td>1</td>\n    </tr>\n    <tr>\n      <th>49997</th>\n      <td>good unit kingdom titl movi contagion attract ...</td>\n      <td>1</td>\n    </tr>\n    <tr>\n      <th>49998</th>\n      <td>badthi game bad couldn believ cheap graphic po...</td>\n      <td>-1</td>\n    </tr>\n    <tr>\n      <th>49999</th>\n      <td>good prison moviethi good prison movi get nice...</td>\n      <td>1</td>\n    </tr>\n  </tbody>\n</table>\n<p>50000 rows × 2 columns</p>\n</div>"
     },
     "execution_count": 10,
     "metadata": {},
     "output_type": "execute_result"
    }
   ],
   "source": [
    "positive = df[df['sentiment'] == 'Positive']\n",
    "negative = df[df['sentiment'] == 'Negative']\n",
    "\n",
    "def lemmatize_stemming(text):\n",
    "    stemmer = SnowballStemmer(\"english\")\n",
    "    return stemmer.stem(WordNetLemmatizer().lemmatize(text, pos='v'))\n",
    "\n",
    "def preprocess(text):\n",
    "    result = []\n",
    "    for token in gensim.utils.simple_preprocess(text):\n",
    "        if token not in gensim.parsing.preprocessing.STOPWORDS and len(token) > 2:\n",
    "            result.append(lemmatize_stemming(token))\n",
    "    return result\n",
    "\n",
    "# Preprocessing the text, including restoring part of speech and removing stop words\n",
    "df['context'] = df['context'].apply(lambda x : ' '.join(preprocess(x)))\n",
    "df = df[['context', 'sentiment']]\n",
    "df['sentiment'] = df['sentiment'].apply(lambda x : 1 if x == 'Positive' else -1)\n",
    "df"
   ],
   "metadata": {
    "collapsed": false,
    "pycharm": {
     "name": "#%%\n"
    }
   }
  },
  {
   "cell_type": "markdown",
   "source": [
    "## random split train and test data"
   ],
   "metadata": {
    "collapsed": false,
    "pycharm": {
     "name": "#%% md\n"
    }
   }
  },
  {
   "cell_type": "code",
   "execution_count": 11,
   "outputs": [
    {
     "name": "stderr",
     "output_type": "stream",
     "text": [
      "D:\\ProgramData\\Anaconda3\\envs\\py37\\lib\\site-packages\\ipykernel_launcher.py:2: SettingWithCopyWarning: \n",
      "A value is trying to be set on a copy of a slice from a DataFrame.\n",
      "Try using .loc[row_indexer,col_indexer] = value instead\n",
      "\n",
      "See the caveats in the documentation: https://pandas.pydata.org/pandas-docs/stable/user_guide/indexing.html#returning-a-view-versus-a-copy\n",
      "  \n"
     ]
    }
   ],
   "source": [
    "index = df.index\n",
    "df['random_number'] = np.random.randn(len(index))\n",
    "train = df[df['random_number'] <= 0.8]\n",
    "test = df[df['random_number'] > 0.8]"
   ],
   "metadata": {
    "collapsed": false,
    "pycharm": {
     "name": "#%%\n"
    }
   }
  },
  {
   "cell_type": "markdown",
   "source": [
    "## run the model"
   ],
   "metadata": {
    "collapsed": false,
    "pycharm": {
     "name": "#%% md\n"
    }
   }
  },
  {
   "cell_type": "code",
   "execution_count": 12,
   "outputs": [
    {
     "name": "stderr",
     "output_type": "stream",
     "text": [
      "D:\\ProgramData\\Anaconda3\\envs\\py37\\lib\\site-packages\\sklearn\\linear_model\\_logistic.py:818: ConvergenceWarning: lbfgs failed to converge (status=1):\n",
      "STOP: TOTAL NO. of ITERATIONS REACHED LIMIT.\n",
      "\n",
      "Increase the number of iterations (max_iter) or scale the data as shown in:\n",
      "    https://scikit-learn.org/stable/modules/preprocessing.html\n",
      "Please also refer to the documentation for alternative solver options:\n",
      "    https://scikit-learn.org/stable/modules/linear_model.html#logistic-regression\n",
      "  extra_warning_msg=_LOGISTIC_SOLVER_CONVERGENCE_MSG,\n"
     ]
    },
    {
     "data": {
      "text/plain": "LogisticRegression()"
     },
     "execution_count": 12,
     "metadata": {},
     "output_type": "execute_result"
    }
   ],
   "source": [
    "# count vectorizer:\n",
    "from sklearn.feature_extraction.text import CountVectorizer\n",
    "vectorizer = CountVectorizer(token_pattern=r'\\b\\w+\\b')\n",
    "train_matrix = vectorizer.fit_transform(train['context'])\n",
    "test_matrix = vectorizer.transform(test['context'])\n",
    "\n",
    "# Logistic Regression\n",
    "from sklearn.linear_model import LogisticRegression\n",
    "lr = LogisticRegression()\n",
    "\n",
    "X_train = train_matrix\n",
    "X_test = test_matrix\n",
    "y_train = train['sentiment']\n",
    "y_test = test['sentiment']\n",
    "lr.fit(X_train,y_train)"
   ],
   "metadata": {
    "collapsed": false,
    "pycharm": {
     "name": "#%%\n"
    }
   }
  },
  {
   "cell_type": "markdown",
   "source": [
    "## prediction and test"
   ],
   "metadata": {
    "collapsed": false,
    "pycharm": {
     "name": "#%% md\n"
    }
   }
  },
  {
   "cell_type": "code",
   "execution_count": 13,
   "outputs": [
    {
     "name": "stdout",
     "output_type": "stream",
     "text": [
      "              precision    recall  f1-score   support\n",
      "\n",
      "          -1       0.57      0.73      0.64      1171\n",
      "           1       0.96      0.93      0.95      9305\n",
      "\n",
      "    accuracy                           0.91     10476\n",
      "   macro avg       0.77      0.83      0.79     10476\n",
      "weighted avg       0.92      0.91      0.91     10476\n",
      "\n"
     ]
    }
   ],
   "source": [
    "predictions = lr.predict(X_test)\n",
    "\n",
    "# find accuracy, precision, recall:\n",
    "from sklearn.metrics import confusion_matrix,classification_report\n",
    "new = np.asarray(y_test)\n",
    "confusion_matrix(predictions,y_test)\n",
    "print(classification_report(predictions,y_test))"
   ],
   "metadata": {
    "collapsed": false,
    "pycharm": {
     "name": "#%%\n"
    }
   }
  },
  {
   "cell_type": "markdown",
   "source": [
    "## try to fit the model under different type"
   ],
   "metadata": {
    "collapsed": false
   }
  },
  {
   "cell_type": "code",
   "execution_count": 5,
   "outputs": [
    {
     "data": {
      "text/plain": "       review_id  product_id  \\\n0        3227267  B003EYVXV4   \n1         801848  B007SVLWII   \n2        3695888  B003ZYF1NE   \n3        1357666  B0007SL1ZI   \n4        1968126  0788816454   \n...          ...         ...   \n49995    1132230  B00CWY76CC   \n49996    2939710  B000N4SHOE   \n49997    2468259  B00005IC0E   \n49998    1102407  B00CASLGJY   \n49999    3264639  B003ZXDP10   \n\n                                            review_title  \\\n0      \"The Hunger Games\" is a Well-Constructed \"Chim...   \n1                                             GREAT!!!!!   \n2                                    Satisfied Customers   \n3                                       The Greatest!!!!   \n4                                        Love the movie!   \n...                                                  ...   \n49995                   Really don't care for this game.   \n49996                                        I loved it!   \n49997                                         Very Good!   \n49998                                                bad   \n49999                                  good prison movie   \n\n                                             review_body sentiment  \\\n0      ***This review may contain spoilers***So what ...  Positive   \n1      this game is the best game I have ever played ...  Positive   \n2      It's comfortable, it's light and it's machine ...  Positive   \n3      THIS GAME IS REALLY GREAT YOU SHOULD BUY IT......  Positive   \n4      Great Adam Sandler movie, a classic! And on Bl...  Positive   \n...                                                  ...       ...   \n49995  I have tried this game out for a couple of day...  Negative   \n49996  I enjoyed watching this movie very much.  It w...  Positive   \n49997  I'm from the United Kingdom, and the title her...  Positive   \n49998  this game is just over all bad. I couldn't bel...  Negative   \n49999  this is a good prison movie and i got it in ni...  Positive   \n\n                                                 context  product_category  \n0      \"The Hunger Games\" is a Well-Constructed \"Chim...                 5  \n1      GREAT!!!!!this game is the best game I have ev...                 0  \n2      Satisfied CustomersIt's comfortable, it's ligh...                 4  \n3      The Greatest!!!!THIS GAME IS REALLY GREAT YOU ...                 0  \n4      Love the movie!Great Adam Sandler movie, a cla...                 5  \n...                                                  ...               ...  \n49995  Really don't care for this game.I have tried t...                 0  \n49996  I loved it!I enjoyed watching this movie very ...                 5  \n49997  Very Good!I'm from the United Kingdom, and the...                 5  \n49998  badthis game is just over all bad. I couldn't ...                 0  \n49999  good prison moviethis is a good prison movie a...                 0  \n\n[50000 rows x 7 columns]",
      "text/html": "<div>\n<style scoped>\n    .dataframe tbody tr th:only-of-type {\n        vertical-align: middle;\n    }\n\n    .dataframe tbody tr th {\n        vertical-align: top;\n    }\n\n    .dataframe thead th {\n        text-align: right;\n    }\n</style>\n<table border=\"1\" class=\"dataframe\">\n  <thead>\n    <tr style=\"text-align: right;\">\n      <th></th>\n      <th>review_id</th>\n      <th>product_id</th>\n      <th>review_title</th>\n      <th>review_body</th>\n      <th>sentiment</th>\n      <th>context</th>\n      <th>product_category</th>\n    </tr>\n  </thead>\n  <tbody>\n    <tr>\n      <th>0</th>\n      <td>3227267</td>\n      <td>B003EYVXV4</td>\n      <td>\"The Hunger Games\" is a Well-Constructed \"Chim...</td>\n      <td>***This review may contain spoilers***So what ...</td>\n      <td>Positive</td>\n      <td>\"The Hunger Games\" is a Well-Constructed \"Chim...</td>\n      <td>5</td>\n    </tr>\n    <tr>\n      <th>1</th>\n      <td>801848</td>\n      <td>B007SVLWII</td>\n      <td>GREAT!!!!!</td>\n      <td>this game is the best game I have ever played ...</td>\n      <td>Positive</td>\n      <td>GREAT!!!!!this game is the best game I have ev...</td>\n      <td>0</td>\n    </tr>\n    <tr>\n      <th>2</th>\n      <td>3695888</td>\n      <td>B003ZYF1NE</td>\n      <td>Satisfied Customers</td>\n      <td>It's comfortable, it's light and it's machine ...</td>\n      <td>Positive</td>\n      <td>Satisfied CustomersIt's comfortable, it's ligh...</td>\n      <td>4</td>\n    </tr>\n    <tr>\n      <th>3</th>\n      <td>1357666</td>\n      <td>B0007SL1ZI</td>\n      <td>The Greatest!!!!</td>\n      <td>THIS GAME IS REALLY GREAT YOU SHOULD BUY IT......</td>\n      <td>Positive</td>\n      <td>The Greatest!!!!THIS GAME IS REALLY GREAT YOU ...</td>\n      <td>0</td>\n    </tr>\n    <tr>\n      <th>4</th>\n      <td>1968126</td>\n      <td>0788816454</td>\n      <td>Love the movie!</td>\n      <td>Great Adam Sandler movie, a classic! And on Bl...</td>\n      <td>Positive</td>\n      <td>Love the movie!Great Adam Sandler movie, a cla...</td>\n      <td>5</td>\n    </tr>\n    <tr>\n      <th>...</th>\n      <td>...</td>\n      <td>...</td>\n      <td>...</td>\n      <td>...</td>\n      <td>...</td>\n      <td>...</td>\n      <td>...</td>\n    </tr>\n    <tr>\n      <th>49995</th>\n      <td>1132230</td>\n      <td>B00CWY76CC</td>\n      <td>Really don't care for this game.</td>\n      <td>I have tried this game out for a couple of day...</td>\n      <td>Negative</td>\n      <td>Really don't care for this game.I have tried t...</td>\n      <td>0</td>\n    </tr>\n    <tr>\n      <th>49996</th>\n      <td>2939710</td>\n      <td>B000N4SHOE</td>\n      <td>I loved it!</td>\n      <td>I enjoyed watching this movie very much.  It w...</td>\n      <td>Positive</td>\n      <td>I loved it!I enjoyed watching this movie very ...</td>\n      <td>5</td>\n    </tr>\n    <tr>\n      <th>49997</th>\n      <td>2468259</td>\n      <td>B00005IC0E</td>\n      <td>Very Good!</td>\n      <td>I'm from the United Kingdom, and the title her...</td>\n      <td>Positive</td>\n      <td>Very Good!I'm from the United Kingdom, and the...</td>\n      <td>5</td>\n    </tr>\n    <tr>\n      <th>49998</th>\n      <td>1102407</td>\n      <td>B00CASLGJY</td>\n      <td>bad</td>\n      <td>this game is just over all bad. I couldn't bel...</td>\n      <td>Negative</td>\n      <td>badthis game is just over all bad. I couldn't ...</td>\n      <td>0</td>\n    </tr>\n    <tr>\n      <th>49999</th>\n      <td>3264639</td>\n      <td>B003ZXDP10</td>\n      <td>good prison movie</td>\n      <td>this is a good prison movie and i got it in ni...</td>\n      <td>Positive</td>\n      <td>good prison moviethis is a good prison movie a...</td>\n      <td>0</td>\n    </tr>\n  </tbody>\n</table>\n<p>50000 rows × 7 columns</p>\n</div>"
     },
     "execution_count": 5,
     "metadata": {},
     "output_type": "execute_result"
    }
   ],
   "source": [
    "df = pd.read_csv('data/reviews.csv')\n",
    "df['context'] = df.apply(lambda x : str(x['review_title']) + str(x['review_body']),axis=1)\n",
    "prediction_df = pd.read_csv('task1a.csv')\n",
    "merge_data = pd.merge(df, prediction_df)\n",
    "merge_data"
   ],
   "metadata": {
    "collapsed": false,
    "pycharm": {
     "name": "#%%\n"
    }
   }
  },
  {
   "cell_type": "markdown",
   "source": [
    "## preprocess and train"
   ],
   "metadata": {
    "collapsed": false,
    "pycharm": {
     "name": "#%% md\n"
    }
   }
  },
  {
   "cell_type": "code",
   "execution_count": 7,
   "outputs": [
    {
     "name": "stderr",
     "output_type": "stream",
     "text": [
      "D:\\ProgramData\\Anaconda3\\envs\\py37\\lib\\site-packages\\ipykernel_launcher.py:11: SettingWithCopyWarning: \n",
      "A value is trying to be set on a copy of a slice from a DataFrame.\n",
      "Try using .loc[row_indexer,col_indexer] = value instead\n",
      "\n",
      "See the caveats in the documentation: https://pandas.pydata.org/pandas-docs/stable/user_guide/indexing.html#returning-a-view-versus-a-copy\n",
      "  # This is added back by InteractiveShellApp.init_path()\n",
      "D:\\ProgramData\\Anaconda3\\envs\\py37\\lib\\site-packages\\ipykernel_launcher.py:13: SettingWithCopyWarning: \n",
      "A value is trying to be set on a copy of a slice from a DataFrame.\n",
      "Try using .loc[row_indexer,col_indexer] = value instead\n",
      "\n",
      "See the caveats in the documentation: https://pandas.pydata.org/pandas-docs/stable/user_guide/indexing.html#returning-a-view-versus-a-copy\n",
      "  del sys.path[0]\n",
      "D:\\ProgramData\\Anaconda3\\envs\\py37\\lib\\site-packages\\ipykernel_launcher.py:17: SettingWithCopyWarning: \n",
      "A value is trying to be set on a copy of a slice from a DataFrame.\n",
      "Try using .loc[row_indexer,col_indexer] = value instead\n",
      "\n",
      "See the caveats in the documentation: https://pandas.pydata.org/pandas-docs/stable/user_guide/indexing.html#returning-a-view-versus-a-copy\n",
      "D:\\ProgramData\\Anaconda3\\envs\\py37\\lib\\site-packages\\sklearn\\linear_model\\_logistic.py:818: ConvergenceWarning: lbfgs failed to converge (status=1):\n",
      "STOP: TOTAL NO. of ITERATIONS REACHED LIMIT.\n",
      "\n",
      "Increase the number of iterations (max_iter) or scale the data as shown in:\n",
      "    https://scikit-learn.org/stable/modules/preprocessing.html\n",
      "Please also refer to the documentation for alternative solver options:\n",
      "    https://scikit-learn.org/stable/modules/linear_model.html#logistic-regression\n",
      "  extra_warning_msg=_LOGISTIC_SOLVER_CONVERGENCE_MSG,\n"
     ]
    },
    {
     "name": "stdout",
     "output_type": "stream",
     "text": [
      "              precision    recall  f1-score   support\n",
      "\n",
      "          -1       0.64      0.78      0.71       424\n",
      "           1       0.97      0.94      0.95      2884\n",
      "\n",
      "    accuracy                           0.92      3308\n",
      "   macro avg       0.81      0.86      0.83      3308\n",
      "weighted avg       0.93      0.92      0.92      3308\n",
      "\n"
     ]
    },
    {
     "name": "stderr",
     "output_type": "stream",
     "text": [
      "D:\\ProgramData\\Anaconda3\\envs\\py37\\lib\\site-packages\\ipykernel_launcher.py:11: SettingWithCopyWarning: \n",
      "A value is trying to be set on a copy of a slice from a DataFrame.\n",
      "Try using .loc[row_indexer,col_indexer] = value instead\n",
      "\n",
      "See the caveats in the documentation: https://pandas.pydata.org/pandas-docs/stable/user_guide/indexing.html#returning-a-view-versus-a-copy\n",
      "  # This is added back by InteractiveShellApp.init_path()\n",
      "D:\\ProgramData\\Anaconda3\\envs\\py37\\lib\\site-packages\\ipykernel_launcher.py:13: SettingWithCopyWarning: \n",
      "A value is trying to be set on a copy of a slice from a DataFrame.\n",
      "Try using .loc[row_indexer,col_indexer] = value instead\n",
      "\n",
      "See the caveats in the documentation: https://pandas.pydata.org/pandas-docs/stable/user_guide/indexing.html#returning-a-view-versus-a-copy\n",
      "  del sys.path[0]\n",
      "D:\\ProgramData\\Anaconda3\\envs\\py37\\lib\\site-packages\\ipykernel_launcher.py:17: SettingWithCopyWarning: \n",
      "A value is trying to be set on a copy of a slice from a DataFrame.\n",
      "Try using .loc[row_indexer,col_indexer] = value instead\n",
      "\n",
      "See the caveats in the documentation: https://pandas.pydata.org/pandas-docs/stable/user_guide/indexing.html#returning-a-view-versus-a-copy\n"
     ]
    },
    {
     "name": "stdout",
     "output_type": "stream",
     "text": [
      "              precision    recall  f1-score   support\n",
      "\n",
      "          -1       0.39      0.54      0.45        74\n",
      "           1       0.94      0.90      0.92       632\n",
      "\n",
      "    accuracy                           0.86       706\n",
      "   macro avg       0.67      0.72      0.69       706\n",
      "weighted avg       0.89      0.86      0.87       706\n",
      "\n"
     ]
    },
    {
     "name": "stderr",
     "output_type": "stream",
     "text": [
      "D:\\ProgramData\\Anaconda3\\envs\\py37\\lib\\site-packages\\ipykernel_launcher.py:11: SettingWithCopyWarning: \n",
      "A value is trying to be set on a copy of a slice from a DataFrame.\n",
      "Try using .loc[row_indexer,col_indexer] = value instead\n",
      "\n",
      "See the caveats in the documentation: https://pandas.pydata.org/pandas-docs/stable/user_guide/indexing.html#returning-a-view-versus-a-copy\n",
      "  # This is added back by InteractiveShellApp.init_path()\n",
      "D:\\ProgramData\\Anaconda3\\envs\\py37\\lib\\site-packages\\ipykernel_launcher.py:13: SettingWithCopyWarning: \n",
      "A value is trying to be set on a copy of a slice from a DataFrame.\n",
      "Try using .loc[row_indexer,col_indexer] = value instead\n",
      "\n",
      "See the caveats in the documentation: https://pandas.pydata.org/pandas-docs/stable/user_guide/indexing.html#returning-a-view-versus-a-copy\n",
      "  del sys.path[0]\n",
      "D:\\ProgramData\\Anaconda3\\envs\\py37\\lib\\site-packages\\ipykernel_launcher.py:17: SettingWithCopyWarning: \n",
      "A value is trying to be set on a copy of a slice from a DataFrame.\n",
      "Try using .loc[row_indexer,col_indexer] = value instead\n",
      "\n",
      "See the caveats in the documentation: https://pandas.pydata.org/pandas-docs/stable/user_guide/indexing.html#returning-a-view-versus-a-copy\n"
     ]
    },
    {
     "name": "stdout",
     "output_type": "stream",
     "text": [
      "              precision    recall  f1-score   support\n",
      "\n",
      "          -1       0.38      0.56      0.45        34\n",
      "           1       0.95      0.90      0.92       296\n",
      "\n",
      "    accuracy                           0.86       330\n",
      "   macro avg       0.66      0.73      0.69       330\n",
      "weighted avg       0.89      0.86      0.87       330\n",
      "\n"
     ]
    },
    {
     "name": "stderr",
     "output_type": "stream",
     "text": [
      "D:\\ProgramData\\Anaconda3\\envs\\py37\\lib\\site-packages\\ipykernel_launcher.py:11: SettingWithCopyWarning: \n",
      "A value is trying to be set on a copy of a slice from a DataFrame.\n",
      "Try using .loc[row_indexer,col_indexer] = value instead\n",
      "\n",
      "See the caveats in the documentation: https://pandas.pydata.org/pandas-docs/stable/user_guide/indexing.html#returning-a-view-versus-a-copy\n",
      "  # This is added back by InteractiveShellApp.init_path()\n",
      "D:\\ProgramData\\Anaconda3\\envs\\py37\\lib\\site-packages\\ipykernel_launcher.py:13: SettingWithCopyWarning: \n",
      "A value is trying to be set on a copy of a slice from a DataFrame.\n",
      "Try using .loc[row_indexer,col_indexer] = value instead\n",
      "\n",
      "See the caveats in the documentation: https://pandas.pydata.org/pandas-docs/stable/user_guide/indexing.html#returning-a-view-versus-a-copy\n",
      "  del sys.path[0]\n",
      "D:\\ProgramData\\Anaconda3\\envs\\py37\\lib\\site-packages\\ipykernel_launcher.py:17: SettingWithCopyWarning: \n",
      "A value is trying to be set on a copy of a slice from a DataFrame.\n",
      "Try using .loc[row_indexer,col_indexer] = value instead\n",
      "\n",
      "See the caveats in the documentation: https://pandas.pydata.org/pandas-docs/stable/user_guide/indexing.html#returning-a-view-versus-a-copy\n",
      "D:\\ProgramData\\Anaconda3\\envs\\py37\\lib\\site-packages\\sklearn\\linear_model\\_logistic.py:818: ConvergenceWarning: lbfgs failed to converge (status=1):\n",
      "STOP: TOTAL NO. of ITERATIONS REACHED LIMIT.\n",
      "\n",
      "Increase the number of iterations (max_iter) or scale the data as shown in:\n",
      "    https://scikit-learn.org/stable/modules/preprocessing.html\n",
      "Please also refer to the documentation for alternative solver options:\n",
      "    https://scikit-learn.org/stable/modules/linear_model.html#logistic-regression\n",
      "  extra_warning_msg=_LOGISTIC_SOLVER_CONVERGENCE_MSG,\n"
     ]
    },
    {
     "name": "stdout",
     "output_type": "stream",
     "text": [
      "              precision    recall  f1-score   support\n",
      "\n",
      "          -1       0.43      0.61      0.50       174\n",
      "           1       0.96      0.92      0.94      1708\n",
      "\n",
      "    accuracy                           0.89      1882\n",
      "   macro avg       0.69      0.76      0.72      1882\n",
      "weighted avg       0.91      0.89      0.90      1882\n",
      "\n"
     ]
    },
    {
     "name": "stderr",
     "output_type": "stream",
     "text": [
      "D:\\ProgramData\\Anaconda3\\envs\\py37\\lib\\site-packages\\ipykernel_launcher.py:11: SettingWithCopyWarning: \n",
      "A value is trying to be set on a copy of a slice from a DataFrame.\n",
      "Try using .loc[row_indexer,col_indexer] = value instead\n",
      "\n",
      "See the caveats in the documentation: https://pandas.pydata.org/pandas-docs/stable/user_guide/indexing.html#returning-a-view-versus-a-copy\n",
      "  # This is added back by InteractiveShellApp.init_path()\n",
      "D:\\ProgramData\\Anaconda3\\envs\\py37\\lib\\site-packages\\ipykernel_launcher.py:13: SettingWithCopyWarning: \n",
      "A value is trying to be set on a copy of a slice from a DataFrame.\n",
      "Try using .loc[row_indexer,col_indexer] = value instead\n",
      "\n",
      "See the caveats in the documentation: https://pandas.pydata.org/pandas-docs/stable/user_guide/indexing.html#returning-a-view-versus-a-copy\n",
      "  del sys.path[0]\n",
      "D:\\ProgramData\\Anaconda3\\envs\\py37\\lib\\site-packages\\ipykernel_launcher.py:17: SettingWithCopyWarning: \n",
      "A value is trying to be set on a copy of a slice from a DataFrame.\n",
      "Try using .loc[row_indexer,col_indexer] = value instead\n",
      "\n",
      "See the caveats in the documentation: https://pandas.pydata.org/pandas-docs/stable/user_guide/indexing.html#returning-a-view-versus-a-copy\n"
     ]
    },
    {
     "name": "stdout",
     "output_type": "stream",
     "text": [
      "              precision    recall  f1-score   support\n",
      "\n",
      "          -1       0.41      0.62      0.49       112\n",
      "           1       0.97      0.93      0.95      1522\n",
      "\n",
      "    accuracy                           0.91      1634\n",
      "   macro avg       0.69      0.77      0.72      1634\n",
      "weighted avg       0.93      0.91      0.92      1634\n",
      "\n"
     ]
    },
    {
     "name": "stderr",
     "output_type": "stream",
     "text": [
      "D:\\ProgramData\\Anaconda3\\envs\\py37\\lib\\site-packages\\ipykernel_launcher.py:11: SettingWithCopyWarning: \n",
      "A value is trying to be set on a copy of a slice from a DataFrame.\n",
      "Try using .loc[row_indexer,col_indexer] = value instead\n",
      "\n",
      "See the caveats in the documentation: https://pandas.pydata.org/pandas-docs/stable/user_guide/indexing.html#returning-a-view-versus-a-copy\n",
      "  # This is added back by InteractiveShellApp.init_path()\n",
      "D:\\ProgramData\\Anaconda3\\envs\\py37\\lib\\site-packages\\ipykernel_launcher.py:13: SettingWithCopyWarning: \n",
      "A value is trying to be set on a copy of a slice from a DataFrame.\n",
      "Try using .loc[row_indexer,col_indexer] = value instead\n",
      "\n",
      "See the caveats in the documentation: https://pandas.pydata.org/pandas-docs/stable/user_guide/indexing.html#returning-a-view-versus-a-copy\n",
      "  del sys.path[0]\n",
      "D:\\ProgramData\\Anaconda3\\envs\\py37\\lib\\site-packages\\ipykernel_launcher.py:17: SettingWithCopyWarning: \n",
      "A value is trying to be set on a copy of a slice from a DataFrame.\n",
      "Try using .loc[row_indexer,col_indexer] = value instead\n",
      "\n",
      "See the caveats in the documentation: https://pandas.pydata.org/pandas-docs/stable/user_guide/indexing.html#returning-a-view-versus-a-copy\n"
     ]
    },
    {
     "name": "stdout",
     "output_type": "stream",
     "text": [
      "              precision    recall  f1-score   support\n",
      "\n",
      "          -1       0.56      0.75      0.64       273\n",
      "           1       0.97      0.93      0.95      2343\n",
      "\n",
      "    accuracy                           0.91      2616\n",
      "   macro avg       0.77      0.84      0.80      2616\n",
      "weighted avg       0.93      0.91      0.92      2616\n",
      "\n"
     ]
    },
    {
     "name": "stderr",
     "output_type": "stream",
     "text": [
      "D:\\ProgramData\\Anaconda3\\envs\\py37\\lib\\site-packages\\sklearn\\linear_model\\_logistic.py:818: ConvergenceWarning: lbfgs failed to converge (status=1):\n",
      "STOP: TOTAL NO. of ITERATIONS REACHED LIMIT.\n",
      "\n",
      "Increase the number of iterations (max_iter) or scale the data as shown in:\n",
      "    https://scikit-learn.org/stable/modules/preprocessing.html\n",
      "Please also refer to the documentation for alternative solver options:\n",
      "    https://scikit-learn.org/stable/modules/linear_model.html#logistic-regression\n",
      "  extra_warning_msg=_LOGISTIC_SOLVER_CONVERGENCE_MSG,\n"
     ]
    }
   ],
   "source": [
    "# save the performance under the each type\n",
    "performance_score = []\n",
    "\n",
    "# process and train the model under different types\n",
    "for i in range(0, 6):\n",
    "    type_df = merge_data[merge_data['product_category'] == i]\n",
    "    positive = type_df[type_df['sentiment'] == 'Positive']\n",
    "    negative = type_df[type_df['sentiment'] == 'Negative']\n",
    "\n",
    "    # Preprocessing the text, including restoring part of speech and removing stop words\n",
    "    type_df['context'] = type_df['context'].apply(lambda x : ' '.join(preprocess(x)))\n",
    "    simple_df = type_df[['context', 'sentiment']]\n",
    "    simple_df['sentiment'] = simple_df['sentiment'].apply(lambda x : 1 if x == 'Positive' else -1)\n",
    "\n",
    "    # random split train and test data\n",
    "    index = simple_df.index\n",
    "    simple_df['random_number'] = np.random.randn(len(index))\n",
    "    train = simple_df[simple_df['random_number'] <= 0.8]\n",
    "    test = simple_df[simple_df['random_number'] > 0.8]\n",
    "\n",
    "    # run the mode\n",
    "    # count vectorizer:\n",
    "    vectorizer = CountVectorizer(token_pattern=r'\\b\\w+\\b')\n",
    "    train_matrix = vectorizer.fit_transform(train['context'])\n",
    "    test_matrix = vectorizer.transform(test['context'])\n",
    "\n",
    "    # Logistic Regression\n",
    "\n",
    "    lr = LogisticRegression()\n",
    "\n",
    "    X_train = train_matrix\n",
    "    X_test = test_matrix\n",
    "    y_train = train['sentiment']\n",
    "    y_test = test['sentiment']\n",
    "    lr.fit(X_train,y_train)\n",
    "\n",
    "    # prediction and test\n",
    "    predictions = lr.predict(X_test)\n",
    "\n",
    "    # find accuracy, precision, recall:\n",
    "    new = np.asarray(y_test)\n",
    "    confusion_matrix(predictions,y_test)\n",
    "    print(classification_report(predictions,y_test))\n",
    "    performance_score.append(classification_report(predictions,y_test))"
   ],
   "metadata": {
    "collapsed": false,
    "pycharm": {
     "name": "#%%\n"
    }
   }
  },
  {
   "cell_type": "markdown",
   "source": [
    "## predict the unlabeled data"
   ],
   "metadata": {
    "collapsed": false,
    "pycharm": {
     "name": "#%% md\n"
    }
   }
  },
  {
   "cell_type": "code",
   "execution_count": 15,
   "outputs": [
    {
     "data": {
      "text/plain": "      review_id                                            context\n0       1577265  tast like chees good altern vegan long time or...\n1        774185  great list app list app develop use leav revie...\n2       3722095  dog wild themth dog love actual start bark din...\n3        359962  brokethi million vibrat buy year break fair qu...\n4       1735617  listen bad reviewsi amazon local box star pos ...\n...         ...                                                ...\n5495    1660361   greati chocolatti wasn abl tast peppermint order\n5496    1404529  amaz newth game far east agre hideo kojima say...\n5497    1343547  new like good game hard use compon cabl xbox r...\n5498    1708593  short life expensivei lot dewalt batteri nicd ...\n5499     822470  great toolgreat tool wish load time bring quic...\n\n[5500 rows x 2 columns]",
      "text/html": "<div>\n<style scoped>\n    .dataframe tbody tr th:only-of-type {\n        vertical-align: middle;\n    }\n\n    .dataframe tbody tr th {\n        vertical-align: top;\n    }\n\n    .dataframe thead th {\n        text-align: right;\n    }\n</style>\n<table border=\"1\" class=\"dataframe\">\n  <thead>\n    <tr style=\"text-align: right;\">\n      <th></th>\n      <th>review_id</th>\n      <th>context</th>\n    </tr>\n  </thead>\n  <tbody>\n    <tr>\n      <th>0</th>\n      <td>1577265</td>\n      <td>tast like chees good altern vegan long time or...</td>\n    </tr>\n    <tr>\n      <th>1</th>\n      <td>774185</td>\n      <td>great list app list app develop use leav revie...</td>\n    </tr>\n    <tr>\n      <th>2</th>\n      <td>3722095</td>\n      <td>dog wild themth dog love actual start bark din...</td>\n    </tr>\n    <tr>\n      <th>3</th>\n      <td>359962</td>\n      <td>brokethi million vibrat buy year break fair qu...</td>\n    </tr>\n    <tr>\n      <th>4</th>\n      <td>1735617</td>\n      <td>listen bad reviewsi amazon local box star pos ...</td>\n    </tr>\n    <tr>\n      <th>...</th>\n      <td>...</td>\n      <td>...</td>\n    </tr>\n    <tr>\n      <th>5495</th>\n      <td>1660361</td>\n      <td>greati chocolatti wasn abl tast peppermint order</td>\n    </tr>\n    <tr>\n      <th>5496</th>\n      <td>1404529</td>\n      <td>amaz newth game far east agre hideo kojima say...</td>\n    </tr>\n    <tr>\n      <th>5497</th>\n      <td>1343547</td>\n      <td>new like good game hard use compon cabl xbox r...</td>\n    </tr>\n    <tr>\n      <th>5498</th>\n      <td>1708593</td>\n      <td>short life expensivei lot dewalt batteri nicd ...</td>\n    </tr>\n    <tr>\n      <th>5499</th>\n      <td>822470</td>\n      <td>great toolgreat tool wish load time bring quic...</td>\n    </tr>\n  </tbody>\n</table>\n<p>5500 rows × 2 columns</p>\n</div>"
     },
     "execution_count": 15,
     "metadata": {},
     "output_type": "execute_result"
    }
   ],
   "source": [
    "read_test = pd.read_csv('data/no_ratings.csv')\n",
    "read_test['context'] = read_test.apply(lambda x : str(x['review_title']) + str(x['review_body']),axis=1)\n",
    "# Preprocessing the text, including restoring part of speech and removing stop words\n",
    "read_test['context'] = read_test['context'].apply(lambda x : ' '.join(preprocess(x)))\n",
    "read_test = read_test[['review_id', 'context']]\n",
    "read_test"
   ],
   "metadata": {
    "collapsed": false,
    "pycharm": {
     "name": "#%%\n"
    }
   }
  },
  {
   "cell_type": "code",
   "execution_count": 19,
   "outputs": [
    {
     "data": {
      "text/plain": "array([ 1,  1,  1, ..., -1,  1,  1], dtype=int64)"
     },
     "execution_count": 19,
     "metadata": {},
     "output_type": "execute_result"
    }
   ],
   "source": [
    "test_matrix = vectorizer.transform(read_test['context'])\n",
    "predictions = lr.predict(test_matrix)\n",
    "predictions"
   ],
   "metadata": {
    "collapsed": false,
    "pycharm": {
     "name": "#%%\n"
    }
   }
  },
  {
   "cell_type": "code",
   "execution_count": 21,
   "outputs": [
    {
     "data": {
      "text/plain": "      review_id  sentiment\n0       1577265          1\n1        774185          1\n2       3722095          1\n3        359962          1\n4       1735617          1\n...         ...        ...\n5495    1660361          1\n5496    1404529         -1\n5497    1343547         -1\n5498    1708593          1\n5499     822470          1\n\n[5500 rows x 2 columns]",
      "text/html": "<div>\n<style scoped>\n    .dataframe tbody tr th:only-of-type {\n        vertical-align: middle;\n    }\n\n    .dataframe tbody tr th {\n        vertical-align: top;\n    }\n\n    .dataframe thead th {\n        text-align: right;\n    }\n</style>\n<table border=\"1\" class=\"dataframe\">\n  <thead>\n    <tr style=\"text-align: right;\">\n      <th></th>\n      <th>review_id</th>\n      <th>sentiment</th>\n    </tr>\n  </thead>\n  <tbody>\n    <tr>\n      <th>0</th>\n      <td>1577265</td>\n      <td>1</td>\n    </tr>\n    <tr>\n      <th>1</th>\n      <td>774185</td>\n      <td>1</td>\n    </tr>\n    <tr>\n      <th>2</th>\n      <td>3722095</td>\n      <td>1</td>\n    </tr>\n    <tr>\n      <th>3</th>\n      <td>359962</td>\n      <td>1</td>\n    </tr>\n    <tr>\n      <th>4</th>\n      <td>1735617</td>\n      <td>1</td>\n    </tr>\n    <tr>\n      <th>...</th>\n      <td>...</td>\n      <td>...</td>\n    </tr>\n    <tr>\n      <th>5495</th>\n      <td>1660361</td>\n      <td>1</td>\n    </tr>\n    <tr>\n      <th>5496</th>\n      <td>1404529</td>\n      <td>-1</td>\n    </tr>\n    <tr>\n      <th>5497</th>\n      <td>1343547</td>\n      <td>-1</td>\n    </tr>\n    <tr>\n      <th>5498</th>\n      <td>1708593</td>\n      <td>1</td>\n    </tr>\n    <tr>\n      <th>5499</th>\n      <td>822470</td>\n      <td>1</td>\n    </tr>\n  </tbody>\n</table>\n<p>5500 rows × 2 columns</p>\n</div>"
     },
     "execution_count": 21,
     "metadata": {},
     "output_type": "execute_result"
    }
   ],
   "source": [
    "read_test['sentiment'] = predictions\n",
    "del read_test['context']\n",
    "read_test"
   ],
   "metadata": {
    "collapsed": false,
    "pycharm": {
     "name": "#%%\n"
    }
   }
  },
  {
   "cell_type": "code",
   "execution_count": 22,
   "outputs": [],
   "source": [
    "read_test.to_csv('task 1b.csv', index=None)"
   ],
   "metadata": {
    "collapsed": false,
    "pycharm": {
     "name": "#%%\n"
    }
   }
  }
 ],
 "metadata": {
  "kernelspec": {
   "display_name": "Python 3",
   "language": "python",
   "name": "python3"
  },
  "language_info": {
   "codemirror_mode": {
    "name": "ipython",
    "version": 2
   },
   "file_extension": ".py",
   "mimetype": "text/x-python",
   "name": "python",
   "nbconvert_exporter": "python",
   "pygments_lexer": "ipython2",
   "version": "2.7.6"
  }
 },
 "nbformat": 4,
 "nbformat_minor": 0
}